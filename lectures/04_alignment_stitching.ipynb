{
 "cells": [
  {
   "cell_type": "markdown",
   "metadata": {
    "slideshow": {
     "slide_type": "slide"
    }
   },
   "source": [
    "# Image Alignment and Stitching"
   ]
  },
  {
   "cell_type": "markdown",
   "metadata": {},
   "source": [
    "<center><img src=\"figs/stitching_alcatraz.jpeg\" width=1100px alt=\"default\"/></center>\n",
    "\n",
    "Thank you for completing the Anonymous Feedback Form: https://forms.gle/9694KDv1dzQm6dJ28 (URL in slack)"
   ]
  },
  {
   "cell_type": "markdown",
   "metadata": {
    "slideshow": {
     "slide_type": "slide"
    }
   },
   "source": [
    "# Last Unit\n",
    "\n",
    "- 01: Image Formation Models (Ch. 2)\n",
    "- 02: Image Operators and Transforms (Ch. 3)\n",
    "- **03: Feature Detection, Matching, Segmentation (Ch. 7)**\n",
    "- 04: Image Alignment and Stitching (Ch. 8)\n",
    "- 05: 3D Reconstruction (Ch. 13)\n",
    "\n",
    "We saw how to find features:\n",
    "- which can be \"matched\" for a downstream task,\n",
    "- which are interesting in themselves (boundaries of objects)."
   ]
  },
  {
   "cell_type": "markdown",
   "metadata": {
    "slideshow": {
     "slide_type": "slide"
    }
   },
   "source": [
    "# Last Unit\n",
    "\n",
    "- 01: Image Formation Models (Ch. 2)\n",
    "- 02: Image Operators and Transforms (Ch. 3)\n",
    "- **03: Feature Detection, Matching, Segmentation (Ch. 7)**\n",
    "- 04: Image Alignment and Stitching (Ch. 8)\n",
    "- 05: 3D Reconstruction (Ch. 13)\n",
    "\n",
    "We saw how to find features:\n",
    "- which can be \"matched\" for a **downstream task**,\n",
    "- which are interesting in themselves (boundaries of objects)."
   ]
  },
  {
   "cell_type": "markdown",
   "metadata": {
    "slideshow": {
     "slide_type": "slide"
    }
   },
   "source": [
    "# This Unit\n",
    "\n",
    "- 01: Image Formation Models (Ch. 2)\n",
    "- 02: Image Operators and Transforms (Ch. 3)\n",
    "- 03: Feature Detection, Matching, Segmentation (Ch. 7)\n",
    "- **04: Image Alignment and Stitching (Ch. 8)**\n",
    "- 05: 3D Reconstruction (Ch. 13)"
   ]
  },
  {
   "cell_type": "markdown",
   "metadata": {
    "slideshow": {
     "slide_type": "slide"
    }
   },
   "source": [
    "# Definitions\n",
    "\n",
    "$\\color{#EF5645}{\\text{Matching features}}$ means to find corresponding feature locations in different images.\n",
    "\n",
    "$\\color{#EF5645}{\\text{Image alignment}}$ means to find the geometric transformation that can transform an image into another. This can be done using matched features.\n",
    "\n",
    "$\\color{#EF5645}{\\text{Image stitching}}$ means \"gluing\" images together in a consistent way, for example to form a panorama. This can be done using image alignment.\n",
    "\n",
    "<center><img src=\"figs/03_main2.png\" width=600px alt=\"default\"/></center>"
   ]
  },
  {
   "cell_type": "markdown",
   "metadata": {
    "slideshow": {
     "slide_type": "slide"
    }
   },
   "source": [
    "# Image Alignment and Stitching\n",
    "\n",
    "Your Presentation!"
   ]
  }
 ],
 "metadata": {
  "celltoolbar": "Slideshow",
  "kernelspec": {
   "display_name": "Python 3 (ipykernel)",
   "language": "python",
   "name": "python3"
  },
  "language_info": {
   "codemirror_mode": {
    "name": "ipython",
    "version": 3
   },
   "file_extension": ".py",
   "mimetype": "text/x-python",
   "name": "python",
   "nbconvert_exporter": "python",
   "pygments_lexer": "ipython3",
   "version": "3.9.9"
  }
 },
 "nbformat": 4,
 "nbformat_minor": 2
}
