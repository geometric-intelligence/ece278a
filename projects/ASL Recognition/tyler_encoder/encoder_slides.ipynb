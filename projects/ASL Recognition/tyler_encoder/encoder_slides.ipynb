{
 "cells": [
  {
   "cell_type": "markdown",
   "id": "37c13164",
   "metadata": {
    "slideshow": {
     "slide_type": "slide"
    }
   },
   "source": [
    "<div style=\"font-family: Trebuchet MS\">\n",
    "    <h1 style=\"font-family: Trebuchet MS; line-height:1.5; margin-bottom: -10px\"><center>Classifying ASL Hand Signs on Synthetic Backgrounds using Image Segmentation and a Transformer Encoder Model</center></h1>\n",
    "    <p><center>Shawson Hsiao, Brian Li, Tyler Hattori</center></p>\n",
    "</div>"
   ]
  },
  {
   "cell_type": "markdown",
   "id": "69e6714e",
   "metadata": {
    "slideshow": {
     "slide_type": "slide"
    }
   },
   "source": [
    "<div style=\"font-family: Trebuchet MS\">\n",
    "    <h2 style=\"font-family: Trebuchet MS; letter-spacing: 0.5px\"><center>Goal</center></h2>\n",
    "    <ul>\n",
    "        <li>Given an image of a hand blended onto a complicated background, identify what ASL number (0 to 9) the hand is signing</li>\n",
    "        <li>Three tasks: (1) image blending, (2) image segmentation, (3) classification using AI</li>\n",
    "    </ul>\n",
    "    <center><img style=\"width: 80%\" src=\"images/goal.png\"></center>\n",
    "</div>"
   ]
  },
  {
   "cell_type": "markdown",
   "id": "02dfc5e1",
   "metadata": {
    "slideshow": {
     "slide_type": "slide"
    }
   },
   "source": [
    "<h2 style=\"font-family: Trebuchet MS; letter-spacing: 0.5px; margin-bottom: 60px\"><center>ASL Numbering</center></h2>\n",
    "<center><img style=\"width: 40%\" src=\"images/asl.png\"></center>"
   ]
  },
  {
   "cell_type": "markdown",
   "id": "6fccb559",
   "metadata": {
    "slideshow": {
     "slide_type": "slide"
    }
   },
   "source": [
    "<div style=\"font-family: Trebuchet MS\">\n",
    "    <h2 style=\"font-family: Trebuchet MS; margin-bottom:80px\"><center>Image Blending</center></h2>\n",
    "    <center><img style=\"width: 100%\" src=\"images/blend.png\"></center>\n",
    "</div>"
   ]
  },
  {
   "cell_type": "markdown",
   "id": "f88154e5",
   "metadata": {
    "slideshow": {
     "slide_type": "slide"
    }
   },
   "source": [
    "<div style=\"font-family: Trebuchet MS\">\n",
    "    <h2 style=\"font-family: Trebuchet MS; margin-bottom: -30px\"><center>The Transformer Encoder</center></h2>\n",
    "    <p><center><i>ASL hand sign recognition</i></center></p>\n",
    "    <center><img style=\"width: 40%\" src=\"images/encoder_params.png\"></center>\n",
    "    <ul>\n",
    "        <li>Datsets: <i>Hand Gesture Recognition Datset</i> [1], <i>Sign Language Digits Datset</i> [2], <i>American Sign Language Digits</i> [3]</li>\n",
    "        <li>97.9% accuracy on 3000 testing images from [1] (300 testing images for each digit)</li>\n",
    "    </ul>\n",
    "</div>"
   ]
  },
  {
   "cell_type": "markdown",
   "id": "20449d2c",
   "metadata": {
    "slideshow": {
     "slide_type": "slide"
    }
   },
   "source": [
    "<div style=\"font-family: Trebuchet MS\">\n",
    "    <h2 style=\"font-family: Trebuchet MS; margin-bottom: -10px\"><center>Preprocessing the Datasets</center></h2>\n",
    "    <ul>\n",
    "        <li>Images from the three datasets vary in size, shape, and right/left handedness</li>\n",
    "    </ul>\n",
    "    <center><img style=\"width: 60%; margin-bottom: -30px\" src=\"images/dataset.png\"></center>\n",
    "    <ul>\n",
    "        <li>However, the encoder input must be a sequence of tokens (integers)</li>\n",
    "    </ul>\n",
    "</div>"
   ]
  },
  {
   "cell_type": "markdown",
   "id": "56dfabd3",
   "metadata": {
    "slideshow": {
     "slide_type": "subslide"
    }
   },
   "source": [
    "<div style=\"font-family: Trebuchet MS\">\n",
    "    <h2 style=\"font-family: Trebuchet MS; margin-bottom: 30px\"><center>Preprocessing the Datasets</center></h2>\n",
    "    <ul>\n",
    "        <li>After each image is rescaled to be 20x20 with only 0s or 1s as entries, they are flattened into length 400 binary sequences</li>\n",
    "        <li>By converting each set of 10 binary entries into decimal, each sequence is reduced to length 40</li>\n",
    "        <li>This converts any image into 40 tokens with a vocab of 2048</li>\n",
    "    </ul>\n",
    "</div>"
   ]
  },
  {
   "cell_type": "code",
   "execution_count": 1,
   "id": "add10392",
   "metadata": {
    "slideshow": {
     "slide_type": "subslide"
    }
   },
   "outputs": [],
   "source": [
    "import numpy as np\n",
    "import matplotlib.pyplot as plt\n",
    "import matplotlib.image as mpimg\n",
    "import random\n",
    "import skimage.measure\n",
    "import cv2\n",
    "import os\n",
    "\n",
    "def trim(image,px=3):\n",
    "    kernel = np.ones((px,px),np.uint8)\n",
    "    return cv2.erode(image,kernel)\n",
    "\n",
    "def pool(image):\n",
    "    return cv2.resize(image,(20,20))\n",
    "\n",
    "def binarize(image,threshold=135):\n",
    "    N = np.size(image,1)\n",
    "    return np.array([[1 if image[i][j] > threshold else 0 for j in range(N)] for i in range(N)],int)\n",
    "\n",
    "def image2seq(image,Q=10):\n",
    "    b = [pow(2,i) for i in range(Q)]\n",
    "    image_flat = image.flatten()\n",
    "    image_flat = np.append(image_flat,np.zeros(np.mod(len(image_flat),Q),int))\n",
    "    seq = np.zeros(int(len(image_flat)/Q),int)\n",
    "    for i in range(len(seq)):\n",
    "        seq[i] = image_flat[i*Q:i*Q+Q] @ b\n",
    "    return seq"
   ]
  },
  {
   "cell_type": "code",
   "execution_count": 2,
   "id": "cdcc3a1d",
   "metadata": {
    "slideshow": {
     "slide_type": "subslide"
    }
   },
   "outputs": [],
   "source": [
    "def consolidate_datasets(threshold=135,type='train'):\n",
    "    G = 10\n",
    "    images = []\n",
    "    for set in range(3):\n",
    "        path = './gestures'+str(set+1)+'/'+type+'/'\n",
    "\n",
    "        for gesture in range(G):\n",
    "            gesture_idx = str(gesture)+'/'\n",
    "            if set == 1: gesture_idx = 'A'+gesture_idx\n",
    "            train_imgs = os.listdir(path+gesture_idx)\n",
    "\n",
    "            for i in range(len(train_imgs)):\n",
    "                img = mpimg.imread(path+gesture_idx+train_imgs[i])\n",
    "                if set == 1: img = cv2.cvtColor(img[:,::-1], cv2.COLOR_BGR2HSV)[:,:,1]\n",
    "                elif set == 2: img = img[:,::-1,0]\n",
    "\n",
    "                if set == 0: threshold = 135\n",
    "                else: threshold = 50\n",
    "\n",
    "                if set == 2: px = 7\n",
    "                else: px = 1\n",
    "\n",
    "                img = np.array(binarize(img,threshold),float)\n",
    "                img = trim(img,px)\n",
    "                img = np.array(pool(img),int)\n",
    "                seq = image2seq(img)\n",
    "                entry = np.append(seq,gesture)\n",
    "                images.append(entry)\n",
    "    images = np.array(images,int)\n",
    "    return images"
   ]
  },
  {
   "cell_type": "code",
   "execution_count": 3,
   "id": "59e874cd",
   "metadata": {
    "slideshow": {
     "slide_type": "subslide"
    }
   },
   "outputs": [],
   "source": [
    "def show_example_input(plot_images=True,set=2):\n",
    "    train_path = './gestures'+str(set)+'/train/'\n",
    "    gesture_idx = str(random.randint(0,9))+'/'\n",
    "    if set == 2: gesture_idx = 'A'+gesture_idx\n",
    "    train_imgs = os.listdir(train_path+gesture_idx)\n",
    "\n",
    "    img_idx = random.randint(0,len(train_imgs))\n",
    "    image = mpimg.imread(train_path+gesture_idx+train_imgs[img_idx])\n",
    "\n",
    "    if set == 2: image2 = cv2.cvtColor(image[:,::-1], cv2.COLOR_BGR2HSV)[:,:,1]\n",
    "    elif set == 3: image2 = image[:,::-1,0]\n",
    "    else: image2 = image\n",
    "\n",
    "    if set == 1: threshold = 135\n",
    "    else: threshold = 50\n",
    "\n",
    "    if set == 3: px = 7\n",
    "    else: px = 1\n",
    "\n",
    "    image3 = np.array(binarize(image2,threshold),float)\n",
    "    image4 = trim(image3,px)\n",
    "    image5 = np.array(pool(image4),int)\n",
    "    images = [image,image2,image3,image4,image5]\n",
    "    if plot_images:\n",
    "        fig, axs = plt.subplot_mosaic([[i for i in range(len(images))]], layout='constrained')\n",
    "        for label, ax in axs.items():\n",
    "            ax.imshow(images[label])\n",
    "        plt.show()"
   ]
  },
  {
   "cell_type": "code",
   "execution_count": 4,
   "id": "84403b00",
   "metadata": {
    "slideshow": {
     "slide_type": "subslide"
    }
   },
   "outputs": [],
   "source": [
    "def seq2image(seq,Q=10,N=40):\n",
    "    img = np.zeros(400,int)\n",
    "    b = [pow(2,i) for i in range(Q)]\n",
    "    for i in range(N):\n",
    "        btoken = format(seq[i], 'b')\n",
    "        btoken = np.append([0]*(Q-len(btoken)),[btoken[j] for j in range(len(btoken))])\n",
    "        btoken = btoken[::-1]\n",
    "        img[i*Q:i*Q+Q] = btoken\n",
    "    img = img.reshape(20,20)\n",
    "    return img"
   ]
  },
  {
   "cell_type": "code",
   "execution_count": 5,
   "id": "3ebf1b09",
   "metadata": {
    "slideshow": {
     "slide_type": "subslide"
    }
   },
   "outputs": [
    {
     "data": {
      "image/png": "[encoded data removed]",
      "text/plain": [
       "<Figure size 640x480 with 5 Axes>"
      ]
     },
     "metadata": {},
     "output_type": "display_data"
    },
    {
     "data": {
      "image/png": "[encoded data removed]",
      "text/plain": [
       "<Figure size 640x480 with 5 Axes>"
      ]
     },
     "metadata": {},
     "output_type": "display_data"
    },
    {
     "data": {
      "image/png": "[encoded data removed]",
      "text/plain": [
       "<Figure size 640x480 with 5 Axes>"
      ]
     },
     "metadata": {},
     "output_type": "display_data"
    }
   ],
   "source": [
    "show_example_input(set=1)\n",
    "show_example_input(set=2)\n",
    "show_example_input(set=3)"
   ]
  },
  {
   "cell_type": "code",
   "execution_count": null,
   "id": "67114a3c",
   "metadata": {
    "slideshow": {
     "slide_type": "skip"
    }
   },
   "outputs": [],
   "source": [
    "# create dataset\n",
    "training = consolidate_datasets(type='train')\n",
    "testing  = consolidate_datasets(type='test')\n",
    "\n",
    "# split datasets into inputs and outputs\n",
    "test_dataset_ordered = np.array([testing[i][:-1] for i in range(len(testing))], int)\n",
    "test_labels_ordered = np.array([testing[i][-1] for i in range(len(testing))], int)\n",
    "np.save('./dataset/testing_sequences_ordered',test_dataset_ordered)\n",
    "np.save('./dataset/testing_labels_ordered',test_labels_ordered)\n",
    "\n",
    "# shuffle dataset entries\n",
    "np.random.shuffle(training)\n",
    "np.random.shuffle(testing)\n",
    "\n",
    "# split datasets into inputs and outputs\n",
    "train_dataset = np.array([training[i][:-1] for i in range(len(training))], int)\n",
    "train_labels = np.array([training[i][-1] for i in range(len(training))], int)\n",
    "test_dataset = np.array([testing[i][:-1] for i in range(len(testing))], int)\n",
    "test_labels = np.array([testing[i][-1] for i in range(len(testing))], int)\n",
    "np.save('./dataset/training_sequences',train_dataset)\n",
    "np.save('./dataset/training_labels',train_labels)\n",
    "np.save('./dataset/testing_sequences',test_dataset)\n",
    "np.save('./dataset/testing_labels',test_labels)"
   ]
  },
  {
   "cell_type": "markdown",
   "id": "7431f873",
   "metadata": {
    "slideshow": {
     "slide_type": "slide"
    }
   },
   "source": [
    "<div style=\"font-family: Trebuchet MS\">\n",
    "    <h2 style=\"font-family: Trebuchet MS;\"><center>The Dataset</center></h2>\n",
    "</div>"
   ]
  },
  {
   "cell_type": "code",
   "execution_count": 6,
   "id": "91fcbf31",
   "metadata": {
    "slideshow": {
     "slide_type": "subslide"
    }
   },
   "outputs": [
    {
     "data": {
      "image/png": "[encoded data removed]",
      "text/plain": [
       "<Figure size 640x480 with 9 Axes>"
      ]
     },
     "metadata": {},
     "output_type": "display_data"
    }
   ],
   "source": [
    "# plot nine random input sequences as images\n",
    "inputs = np.load('./dataset/testing_sequences.npy')\n",
    "outputs = np.load('./dataset/testing_labels.npy')\n",
    "fig, axs = plt.subplot_mosaic([[random.randint(0,len(outputs)) for i in range(3)] for j in range(3)], layout='constrained')\n",
    "for label, ax in axs.items():\n",
    "    ax.set_title('Gesture '+str(outputs[label]))\n",
    "    ax.imshow(seq2image(inputs[label]))\n",
    "    ax.axis('off')\n",
    "plt.show()"
   ]
  },
  {
   "cell_type": "markdown",
   "id": "b6ffae91",
   "metadata": {
    "slideshow": {
     "slide_type": "slide"
    }
   },
   "source": [
    "<div style=\"font-family: Trebuchet MS\">\n",
    "    <h2 style=\"font-family: Trebuchet MS; margin-bottom: -30px\"><center>The Model</center></h2>\n",
    "    <p><center><i>ASL hand sign recognition</i></center></p>\n",
    "    <p><center>Colab link:</center></p>\n",
    "    <p><center>https://colab.research.google.com/drive/10FDxEMkoEqzlDQnufXqAp4f4BK8yGJW6?usp=sharing</center></p>\n",
    "</div>"
   ]
  },
  {
   "cell_type": "markdown",
   "id": "680b082b",
   "metadata": {
    "slideshow": {
     "slide_type": "slide"
    }
   },
   "source": [
    "<div style=\"font-family: Trebuchet MS\">\n",
    "    <h2 style=\"font-family: Trebuchet MS; margin-bottom: -30px\"><center>Test the Model</center></h2>\n",
    "    <p><center><i>on test images from the dataset</i></center></p>\n",
    "    <center><img style=\"width: 60%; margin-left:-6%\" src=\"images/accuracies.png\"></center>\n",
    "</div>"
   ]
  },
  {
   "cell_type": "markdown",
   "id": "d741b734",
   "metadata": {
    "slideshow": {
     "slide_type": "slide"
    }
   },
   "source": [
    "<div style=\"font-family: Trebuchet MS\">\n",
    "    <h2 style=\"font-family: Trebuchet MS; margin-bottom: -30px\"><center>Test the Model</center></h2>\n",
    "    <p><center><i>on images found online</i></center></p>\n",
    "    <center><img style=\"width: 100%\" src=\"images/google.png\"></center>\n",
    "</div>"
   ]
  },
  {
   "cell_type": "markdown",
   "id": "42d82f24",
   "metadata": {
    "slideshow": {
     "slide_type": "slide"
    }
   },
   "source": [
    "<div style=\"font-family: Trebuchet MS\">\n",
    "    <h2 style=\"font-family: Trebuchet MS; margin-bottom: -30px\"><center>Test the Model</center></h2>\n",
    "    <p><center><i>on non-blended images</i></center></p>\n",
    "    <center><img style=\"width: 100%\" src=\"images/shawson.png\"></center>\n",
    "</div>"
   ]
  },
  {
   "cell_type": "markdown",
   "id": "bb149663",
   "metadata": {
    "slideshow": {
     "slide_type": "slide"
    }
   },
   "source": [
    "<div style=\"font-family: Trebuchet MS\">\n",
    "    <h2 style=\"font-family: Trebuchet MS; margin-bottom: -30px\"><center>Test the Model</center></h2>\n",
    "    <p><center><i>on images from the simple segmentation method</i></center></p>\n",
    "    <center><img style=\"width: 100%\" src=\"images/otsu.png\"></center>\n",
    "</div>"
   ]
  },
  {
   "cell_type": "markdown",
   "id": "ab13c9eb",
   "metadata": {
    "slideshow": {
     "slide_type": "slide"
    }
   },
   "source": [
    "<div style=\"font-family: Trebuchet MS\">\n",
    "    <h2 style=\"font-family: Trebuchet MS; margin-bottom: -30px\"><center>Test the Model</center></h2>\n",
    "    <p><center><i>on images from the otsu segmentation method</i></center></p>\n",
    "    <center><img style=\"width: 100%\" src=\"images/otsu.png\"></center>\n",
    "</div>"
   ]
  },
  {
   "cell_type": "markdown",
   "id": "dda0f0f3",
   "metadata": {},
   "source": [
    "<div style=\"font-family: Trebuchet MS\">\n",
    "    <h2 style=\"font-family: Trebuchet MS; margin-bottom: -30px\"><center>Test the Model</center></h2>\n",
    "    <p><center><i>on images from the otsu controuring segmentation method</i></center></p>\n",
    "    <center><img style=\"width: 100%\" src=\"images/otsu_contour.png\"></center>\n",
    "</div>"
   ]
  },
  {
   "cell_type": "markdown",
   "id": "9bdd02bc",
   "metadata": {},
   "source": [
    "<div style=\"font-family: Trebuchet MS\">\n",
    "    <h2 style=\"font-family: Trebuchet MS; margin-bottom: -30px\"><center>Test the Model</center></h2>\n",
    "    <p><center><i>on images from the adaptive controuring segmentation method</i></center></p>\n",
    "    <center><img style=\"width: 100%\" src=\"images/adaptive.png\"></center>\n",
    "</div>"
   ]
  },
  {
   "cell_type": "markdown",
   "id": "bc176d0a",
   "metadata": {
    "slideshow": {
     "slide_type": "slide"
    }
   },
   "source": [
    "<div style=\"font-family: Trebuchet MS\">\n",
    "    <h2 style=\"font-family: Trebuchet MS; margin-bottom: 30px\"><center>Conclusion</center></h2>\n",
    "    <ul>\n",
    "        <li>The encoder is able to classify images with stark backgrounds, but performs poorly on noisy images</li>\n",
    "        <li>In order for the encoder to learn to classify the segmented images, it would need a more robust dataset</li>\n",
    "        <li>One idea: train the encoder on the Principal Components of the input image as opposed to the pixel values themselves. This may reduce the effect of noise</li>\n",
    "    </ul>\n",
    "</div>"
   ]
  },
  {
   "cell_type": "markdown",
   "id": "75c58839",
   "metadata": {
    "slideshow": {
     "slide_type": "slide"
    }
   },
   "source": [
    "<div style=\"font-family: Trebuchet MS\">\n",
    "    <h2 style=\"font-family: Trebuchet MS; margin-bottom: 0px\"><center>References</center></h2>\n",
    "    <p>[1] Arya, Rishabh. Hand Gesture Recognition Datset, 2021. https://www.kaggle.com/datasets/aryarishabh/hand-gesture-recognition-dataset.</p>\n",
    "    <p>[2] Wani, Javaid. Sign Language Digits Datset, 2022. https://www.kaggle.com/datasets/javaidahmadwani/sign-language-digits-dataset.</p>\n",
    "    <p>[3] Ofor, Victor. American Sign Language Digits, 2023. https://www.kaggle.com/datasets/victoranthony/asl-digits-0-9.</p>\n",
    "</div>"
   ]
  }
 ],
 "metadata": {
  "celltoolbar": "Slideshow",
  "kernelspec": {
   "display_name": "Python 3 (ipykernel)",
   "language": "python",
   "name": "python3"
  },
  "language_info": {
   "codemirror_mode": {
    "name": "ipython",
    "version": 3
   },
   "file_extension": ".py",
   "mimetype": "text/x-python",
   "name": "python",
   "nbconvert_exporter": "python",
   "pygments_lexer": "ipython3",
   "version": "3.11.5"
  }
 },
 "nbformat": 4,
 "nbformat_minor": 5
}
