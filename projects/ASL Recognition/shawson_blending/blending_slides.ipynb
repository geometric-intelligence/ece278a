{
 "cells": [
  {
   "cell_type": "markdown",
   "id": "201f3fcf-83ea-46ed-8dba-27deb70ca062",
   "metadata": {},
   "source": [
    "# Image blending"
   ]
  },
  {
   "cell_type": "markdown",
   "id": "05ec34a5-e8d1-4bcf-b050-465470484e7b",
   "metadata": {},
   "source": [
    "This notebook is for showing the concept of blending methods and doing comparison. For the project, we use the poisson blending.\n",
    "\n",
    "Be sure to create a file named \"custom_data\" and put your images in.\n",
    "\n",
    "For the main part, please check the ece278a_final.ipynb"
   ]
  },
  {
   "cell_type": "markdown",
   "id": "aa65c024-c1b6-4e13-99f5-95e25e8beb4e",
   "metadata": {
    "jp-MarkdownHeadingCollapsed": true
   },
   "source": [
    "## Helper function"
   ]
  },
  {
   "cell_type": "markdown",
   "id": "8a7b0e47-0806-48ab-ad10-a9cff422afda",
   "metadata": {
    "jp-MarkdownHeadingCollapsed": true
   },
   "source": [
    "### Automatic masking and shift"
   ]
  },
  {
   "cell_type": "markdown",
   "id": "84770f75-a605-43b7-adec-6185caa099c1",
   "metadata": {},
   "source": [
    "PART 1:\n",
    "1. click ‘p’ to enter polygon mode this will allow you to select a polygon by clicking various points\n",
    "2. when done selecting the polygon click ‘q’ which will fill in the mask on the image\n",
    "3. then click some point in the center that will be used to align the mask with the second image\n",
    "4. hit escape when done\n",
    "5. the state of the image can be reset by hitting ‘r’ note that you will need to hit ‘p’ again to enter polygon mode\n",
    "6. click ‘o’ or ‘i’ to rotate the image\n",
    "7. click ‘=‘ or ‘-‘ to resize the image\n",
    "\n",
    "PART 2:\n",
    "1. click anywhere in the image to overlay mask\n",
    "2. hit escape when done to save masks\n",
    "3. click r at anytime to reset frame\n",
    "\n",
    "PART 3:\n",
    "1. masks are stored with the same name + “_mask.png” in the same folder as the code\n",
    "2. new source image is stored with name + “_newsource.png”\n",
    "\n",
    "source: https://github.com/nikhilushinde/cs194-26_proj3_2.2"
   ]
  },
  {
   "cell_type": "code",
   "execution_count": null,
   "id": "16c15374-a93d-49a5-9353-78d7c2a5774d",
   "metadata": {},
   "outputs": [],
   "source": [
    "# Nikhil Uday Shinde: 7/23/18\n",
    "# https://github.com/nikhilushinde/cs194-26_proj3_2.2\n",
    "\n",
    "import cv2\n",
    "import numpy as np\n",
    "import skimage as sk\n",
    "import skimage.io as skio\n",
    "from skimage import img_as_ubyte\n",
    "# global variables for drawing on mask\n",
    "from skimage.transform import SimilarityTransform, warp\n",
    "from PIL import Image\n",
    "\n",
    "drawing = False\n",
    "polygon = False\n",
    "centerMode = False\n",
    "contours = []\n",
    "polygon_center = None\n",
    "img = None\n",
    "\n",
    "def create_mask(imname):\n",
    "    masks_to_ret = {\"centers\":[], \"contours\":[], \"offsets\":[]}\n",
    "\n",
    "    global drawing, polygon, contours, centerMode, polygon_center\n",
    "    pressed_key = 0\n",
    "    # mouse callback function\n",
    "    def draw_circle(event,x,y,flags,param):\n",
    "        global drawing, centerMode, polygon, pressed_key\n",
    "        if drawing == True and event == cv2.EVENT_MOUSEMOVE:\n",
    "            cv2.circle(img,(x,y),10,(255,255,255),-1)\n",
    "            cv2.circle(mask,(x,y),10,(255,255,255),-1)\n",
    "        if polygon == True and event == cv2.EVENT_LBUTTONDOWN:\n",
    "            contours.append([x,y])\n",
    "            cv2.circle(img,(x,y),2,(255,255,255),-1)\n",
    "        if centerMode == True and event == cv2.EVENT_LBUTTONDOWN:\n",
    "            polygon_center = (x,y)\n",
    "            print(polygon_center)\n",
    "            cv2.circle(img, polygon_center, 3, (255, 0, 0), -1)\n",
    "            centerMode = False\n",
    "\n",
    "            masks_to_ret[\"centers\"].append(polygon_center)\n",
    "            masks_to_ret[\"contours\"].append(contours)\n",
    "\n",
    "    # Create a black image, a window and bind the function to window\n",
    "    orig_img = cv2.imread(imname)\n",
    "    reset_orig_img = orig_img[:]\n",
    "    mask = np.zeros(orig_img.shape, np.uint8)\n",
    "    img = np.array(orig_img[:])\n",
    "    cv2.namedWindow('image')\n",
    "\n",
    "    cv2.setMouseCallback('image',draw_circle)\n",
    "\n",
    "    angle = 0\n",
    "    delta_angle = 5\n",
    "    resize_factor = 1.1\n",
    "    total_resize = 1\n",
    "    adjusted = False\n",
    "\n",
    "    while(1):\n",
    "        cv2.imshow('image',img)\n",
    "        pressed_key = cv2.waitKey(20) & 0xFF\n",
    "\n",
    "        \"\"\"\n",
    "        Commands:\n",
    "        d: toggle drawing mode\n",
    "        p: toggle polygon mode\n",
    "        q: draw polygon once selected, and select center\n",
    "        \"\"\"\n",
    "\n",
    "        if pressed_key == 27:\n",
    "            break\n",
    "        elif pressed_key == ord('d'):\n",
    "            drawing = not drawing\n",
    "            print(\"drawing status: \", drawing)\n",
    "        elif pressed_key == ord('p'):\n",
    "            polygon = not polygon\n",
    "            print(\"polygon status: \", polygon)\n",
    "        elif polygon == True and pressed_key == ord('q') and len(contours) > 2:\n",
    "            contours = np.array(contours)\n",
    "            cv2.fillPoly(img, pts=[contours], color = (255,255,255))\n",
    "            cv2.fillPoly(mask, pts=[contours], color = (255,255,255))\n",
    "\n",
    "            centerMode = True\n",
    "            polygon = False\n",
    "        elif pressed_key == ord('o'):\n",
    "            # loop over the rotation angles again, this time ensuring\n",
    "            # no part of the image is cut off\n",
    "            angle = (angle + delta_angle) % 360\n",
    "            adjusted = True\n",
    "            print(\"Rotate\")\n",
    "\n",
    "        elif pressed_key == ord('i'):\n",
    "            # loop over the rotation angles again, this time ensuring\n",
    "            # no part of the image is cut off\n",
    "            angle = (angle - delta_angle) % 360  \n",
    "            adjusted = True\n",
    "            print(\"Rotate\")\n",
    "        \n",
    "        # Plus\n",
    "        elif pressed_key == ord('='):\n",
    "            total_resize = total_resize*resize_factor\n",
    "            adjusted = True\n",
    "            print(\"Resize up\")\n",
    "\n",
    "        # Minus\n",
    "        elif pressed_key == ord('-'):\n",
    "            total_resize = total_resize*(1/resize_factor)\n",
    "            adjusted = True\n",
    "            print(\"Resize down\")\n",
    "        \n",
    "\n",
    "        elif pressed_key == ord('r'):\n",
    "            img = np.array(reset_orig_img)\n",
    "            contours = []\n",
    "            masks_to_ret[\"centers\"] = []\n",
    "            masks_to_ret[\"contours\"] = []\n",
    "\n",
    "            centerMode = False\n",
    "            polygon = False\n",
    "            angle = 0\n",
    "            total_resize = 1\n",
    "\n",
    "            print(\"polygon status: False\")\n",
    "\n",
    "        # adjust\n",
    "        if adjusted:\n",
    "            rows,cols,_ = orig_img.shape\n",
    "            M = cv2.getRotationMatrix2D((cols/2,rows/2),angle,1)\n",
    "            img = cv2.resize(orig_img, dsize=(0,0), fx=total_resize, fy=total_resize)\n",
    "            img = cv2.warpAffine(img,M,(cols,rows))\n",
    "            cv2.imshow('image', img)\n",
    "            adjusted = False\n",
    "            \n",
    "\n",
    "    cv2.destroyAllWindows()\n",
    "    name = imname.split('/')[-1]\n",
    "\n",
    "    # store offsets to allow recreation of masks in target image\n",
    "    for center_num in range(len(masks_to_ret[\"centers\"])):\n",
    "        offset = []\n",
    "        center = masks_to_ret[\"centers\"][center_num]\n",
    "        for point in masks_to_ret[\"contours\"][center_num]:\n",
    "            xoffset = point[0] - center[0]\n",
    "            yoffset = point[1] - center[1]\n",
    "\n",
    "            offset.append([xoffset, yoffset])\n",
    "        masks_to_ret[\"offsets\"].append(offset)\n",
    "\n",
    "    # adjust the output image\n",
    "    rows,cols,_ = orig_img.shape\n",
    "    M = cv2.getRotationMatrix2D((cols/2,rows/2),angle,1)\n",
    "    adj_orig_img = cv2.resize(reset_orig_img, dsize=(0,0), fx=total_resize, fy=total_resize)\n",
    "    adj_orig_img = cv2.warpAffine(adj_orig_img,M,(cols,rows))\n",
    "    # print('masks_to_ret', masks_to_ret)\n",
    "    # print('adj_orig_img', adj_orig_img.shape)\n",
    "    return masks_to_ret, adj_orig_img\n",
    "\n",
    "def paste_mask(im2name, masks_to_ret, im2=None):\n",
    "    im2masks_to_ret = {\"centers\":[], \"contours\":[]}\n",
    "\n",
    "    # mouse callback function\n",
    "    def draw_circle(event,x,y,flags,param):\n",
    "        if event == cv2.EVENT_LBUTTONDOWN:\n",
    "            centernew = [x,y]\n",
    "            new_contour = []\n",
    "            for offsets in masks_to_ret[\"offsets\"]:\n",
    "                for point in offsets:\n",
    "                    xnew = point[0] + centernew[0]\n",
    "                    ynew = point[1] + centernew[1]\n",
    "                    new_contour.append([xnew, ynew])\n",
    "            new_contour= np.array(new_contour)\n",
    "            print(new_contour)\n",
    "            im2masks_to_ret[\"centers\"].append(centernew)\n",
    "            im2masks_to_ret[\"contours\"].append(new_contour)\n",
    "\n",
    "            cv2.fillPoly(img, pts=[new_contour], color = (255,255,255))\n",
    "\n",
    "    # Create a black image, a window and bind the function to window\n",
    "    if type(im2) == type(None):\n",
    "        orig_img = cv2.imread(im2name)#np.zeros((512,512,3), np.uint8)\n",
    "    else:\n",
    "        orig_img = np.array(im2)\n",
    "\n",
    "    img = np.array(orig_img[:])\n",
    "    cv2.namedWindow('image')\n",
    "    cv2.resizeWindow('image', 600,600)\n",
    "    cv2.setMouseCallback('image',draw_circle)\n",
    "\n",
    "    while(1):\n",
    "        cv2.imshow('image',img)\n",
    "        pressed_key = cv2.waitKey(20) & 0xFF\n",
    "\n",
    "        if pressed_key == 27:\n",
    "            break \n",
    "        if pressed_key == ord('r'):\n",
    "            img = np.array(orig_img)\n",
    "            im2masks_to_ret[\"centers\"] = []\n",
    "            im2masks_to_ret[\"contours\"] = []\n",
    "    cv2.destroyAllWindows()\n",
    "    print(\"im2masks_to_ret\", im2masks_to_ret)\n",
    "    print(\"orig_img\", orig_img.shape)\n",
    "    return im2masks_to_ret, orig_img\n",
    "\n",
    "# run with 2 image names to generate and save masks and new source image\n",
    "def save_masks(im1name, im2name):\n",
    "    masks_to_ret, source_im = create_mask(im1name)\n",
    "    im2masks_to_ret, target_im = paste_mask(im2name=im2name, masks_to_ret=masks_to_ret)\n",
    "    # im1 is the source, im2 is the target\n",
    "    source_mask = np.zeros((source_im.shape[0], source_im.shape[1], 3))\n",
    "    target_mask = np.zeros((target_im.shape[0], target_im.shape[1], 3))\n",
    "    cv2.fillPoly(source_mask, np.array([masks_to_ret[\"contours\"][0]]), (255,255,255))\n",
    "    cv2.fillPoly(target_mask, np.array([im2masks_to_ret[\"contours\"][0]]), (255,255,255))\n",
    "\n",
    "    name1 = im1name.split('/')[-1]\n",
    "    name1 = name1[:-4]\n",
    "\n",
    "    name2 = im2name.split('/')[-1]\n",
    "    name2 = name2[:-4]\n",
    "\n",
    "    source_mask = np.clip(sk.img_as_float(source_mask), -1, 1)\n",
    "    target_mask = np.clip(sk.img_as_float(target_mask), -1, 1)\n",
    "    source_im = np.clip(sk.img_as_float(source_im), -1, 1)\n",
    "    source_im = np.dstack([source_im[:,:,2], source_im[:,:,1], source_im[:,:,0]])\n",
    "\n",
    "    offset =  np.array(-im2masks_to_ret['contours'][0][0]) + np.array(masks_to_ret['contours'][0][0])\n",
    "    print(offset)\n",
    "    \n",
    "    tform = SimilarityTransform(translation=offset)\n",
    "    warped = warp(source_im, tform, output_shape=target_im.shape)\n",
    "    # print(name1 + \"_mask.png\")\n",
    "    \n",
    "    source_mask = (source_mask - source_mask.min()) / (source_mask.max() - source_mask.min()) * 255\n",
    "    target_mask = (target_mask - target_mask.min()) / (target_mask.max() - target_mask.min()) * 255\n",
    "    warped = (warped - warped.min()) / (warped.max() - warped.min()) * 255\n",
    "    source_mask = source_mask.astype(np.uint8)\n",
    "    target_mask = target_mask.astype(np.uint8)\n",
    "    warped = warped.astype(np.uint8)\n",
    "    source_mask = Image.fromarray(source_mask)\n",
    "    target_mask = Image.fromarray(target_mask)\n",
    "    warped = Image.fromarray(warped)\n",
    "    \n",
    "    source_mask.save(\"./custom_data/\" + name1 + \"_mask.jpg\")\n",
    "    target_mask.save(\"./custom_data/\" + name2 + \"_mask.jpg\")\n",
    "    warped.save(\"./custom_data/\" + name1 + \"_newsource.jpg\")    \n",
    "    \n",
    "    return source_mask, target_mask, warped"
   ]
  },
  {
   "cell_type": "markdown",
   "id": "5e4ad92f-2edd-4853-a31a-9bf3a1f8c080",
   "metadata": {
    "jp-MarkdownHeadingCollapsed": true
   },
   "source": [
    "### Display"
   ]
  },
  {
   "cell_type": "code",
   "execution_count": null,
   "id": "a3468ef3-9d06-4458-8fcc-4ae89fc2131c",
   "metadata": {},
   "outputs": [],
   "source": [
    "def display_images(images, titles):\n",
    "    \"\"\"Helper function to display images in a grid.\"\"\"\n",
    "    n = len(images)\n",
    "    plt.figure(figsize=(20, 10))\n",
    "    for i in range(n):\n",
    "        plt.subplot(1, n, i + 1)\n",
    "        \n",
    "        plt.imshow(cv.cvtColor(images[i].astype('float32'), cv.COLOR_BGR2RGB))\n",
    "        plt.title(titles[i])\n",
    "        plt.axis('off')\n",
    "    plt.show()"
   ]
  },
  {
   "cell_type": "markdown",
   "id": "e0509178-6d0d-4c28-8678-e36104511d6a",
   "metadata": {
    "jp-MarkdownHeadingCollapsed": true
   },
   "source": [
    "## Multi-band(Pyramid) blending "
   ]
  },
  {
   "cell_type": "markdown",
   "id": "5f0ceeb3-230f-4951-9c54-6f3e5a4112e0",
   "metadata": {
    "jp-MarkdownHeadingCollapsed": true
   },
   "source": [
    "### Method: Gaussian and Laplacian stacks"
   ]
  },
  {
   "cell_type": "code",
   "execution_count": null,
   "id": "381b4cff-f0f4-41c0-a569-ee9fddce2d52",
   "metadata": {},
   "outputs": [],
   "source": [
    "def gaussian_pyramid(image, level):\n",
    "    img = image.copy()\n",
    "    #img = img/255\n",
    "    g_pyramid = [img]\n",
    "    for index in range(level):\n",
    "        sigma = 2**index\n",
    "        \n",
    "        blurred = cv.GaussianBlur(g_pyramid[index], None, sigmaX = sigma)\n",
    "        g_pyramid.append(blurred)\n",
    "    return g_pyramid\n",
    "\n",
    "def laplacian_pyramid(image, level):\n",
    "    \n",
    "    g_pyramid = gaussian_pyramid(image, level)\n",
    "    la_pyramid = []\n",
    "    for index in range(level):\n",
    "        previous = index\n",
    "        now = index+1\n",
    "        one_level = g_pyramid[previous] - g_pyramid[now]\n",
    "        la_pyramid.append(one_level)\n",
    "    la_pyramid.append(g_pyramid[level])\n",
    "    return la_pyramid"
   ]
  },
  {
   "cell_type": "markdown",
   "id": "be23d351-b17f-457e-b0a1-016598132dc7",
   "metadata": {
    "jp-MarkdownHeadingCollapsed": true
   },
   "source": [
    "### Pyramid Blending"
   ]
  },
  {
   "cell_type": "code",
   "execution_count": null,
   "id": "64a8584a-c043-455b-a5e5-bd765b619b7b",
   "metadata": {},
   "outputs": [],
   "source": [
    "def pyramid_blend(img1, img2, mask, levels):\n",
    "    img1_lapyramid = laplacian_pyramid(img1, levels)\n",
    "    img2_lapyramid = laplacian_pyramid(img2, levels)\n",
    "    mask_gpyramid = gaussian_pyramid(mask, levels)\n",
    "    reconstr = []\n",
    "    for i in range(levels+1):\n",
    "        reconstr_level = (mask_gpyramid[i]) * img1_lapyramid[i] + (1-mask_gpyramid[i]) * img2_lapyramid[i]\n",
    "        reconstr.append(reconstr_level)\n",
    "    blend = sum(reconstr)\n",
    "    return blend"
   ]
  },
  {
   "cell_type": "markdown",
   "id": "ebac8edd-502b-4ddd-ba74-85569358c11c",
   "metadata": {
    "jp-MarkdownHeadingCollapsed": true
   },
   "source": [
    "### Example:"
   ]
  },
  {
   "cell_type": "code",
   "execution_count": null,
   "id": "185caa85-4729-40ea-9f43-84a07878af03",
   "metadata": {},
   "outputs": [],
   "source": [
    "import cv2 as cv\n",
    "from matplotlib.pyplot import figure\n",
    "import scipy\n",
    "import matplotlib.pyplot as plt\n",
    "import numpy as np\n",
    "import scipy.sparse as sp"
   ]
  },
  {
   "cell_type": "code",
   "execution_count": null,
   "id": "88c1cd3e-0f1e-404f-bc98-55ea15ac0590",
   "metadata": {},
   "outputs": [],
   "source": [
    "im1name = \"yourimage1.jpg\"  # resource for blending\n",
    "im2name = \"yourimage2.jpg\"  # background image\n",
    "name1 = im1name.split('/')[-1]\n",
    "name1 = name1[:-4]\n",
    "name2 = im2name.split('/')[-1]\n",
    "name2 = name2[:-4]\n",
    "\n",
    "img1 = cv.imread(\"custom_data/\" + name1 + \".jpg\")\n",
    "img2 = cv.imread(\"custom_data/\" + name2 + \".jpg\")\n",
    "img1 = cv.resize(img1, (512,512))\n",
    "img2 = cv.resize(img2, (512,512))\n",
    "cv.imwrite(\"custom_data/\" + name1 + \".jpg\",img1)\n",
    "cv.imwrite(\"custom_data/\" + name2 + \".jpg\",img2)"
   ]
  },
  {
   "cell_type": "code",
   "execution_count": null,
   "id": "352bb6c1-6df1-4937-b73c-9247b93dbf16",
   "metadata": {},
   "outputs": [],
   "source": [
    "img1 = cv.imread(\"custom_data/\" + name1 + \".jpg\")\n",
    "plt.imshow(cv.cvtColor(img1, cv.COLOR_BGR2RGB))\n",
    "plt.show()\n",
    "img1.shape"
   ]
  },
  {
   "cell_type": "code",
   "execution_count": null,
   "id": "bbc29107-72e2-4506-bd98-49cc40dcb816",
   "metadata": {},
   "outputs": [],
   "source": [
    "img2 = cv.imread(\"custom_data/\" + name2 + \".jpg\")\n",
    "plt.imshow(cv.cvtColor(img2, cv.COLOR_BGR2RGB))\n",
    "plt.show()\n",
    "img2.shape"
   ]
  },
  {
   "cell_type": "code",
   "execution_count": null,
   "id": "8798b9a2-8239-43ec-9dd2-568ba479fe62",
   "metadata": {},
   "outputs": [],
   "source": [
    "im1name = \"custom_data/\" + name1 + \".jpg\"\n",
    "im2name = \"custom_data/\" + name2 + \".jpg\"\n",
    "source_mask, target_mask, warped = save_masks(im1name, im2name)"
   ]
  },
  {
   "cell_type": "code",
   "execution_count": null,
   "id": "d79e9371-a17c-43ec-81ee-9acd81970fe9",
   "metadata": {},
   "outputs": [],
   "source": [
    "warped = cv.imread(\"custom_data/\" + name1 + \"_newsource.jpg\")\n",
    "target = cv.imread(\"custom_data/\" + name2 + \".jpg\")\n",
    "warped = np.array((warped/255.), dtype = 'float32')\n",
    "target = np.array((target/255.), dtype = 'float32')"
   ]
  },
  {
   "cell_type": "code",
   "execution_count": null,
   "id": "1db8ef6d-04d8-408f-87af-1cd557314601",
   "metadata": {},
   "outputs": [],
   "source": [
    "warped_gpyramid = gaussian_pyramid(warped, 5)\n",
    "warped_lapyramid = laplacian_pyramid(warped, 5)"
   ]
  },
  {
   "cell_type": "code",
   "execution_count": null,
   "id": "1d0386c8-1df2-4a32-a807-29f0904f1395",
   "metadata": {},
   "outputs": [],
   "source": [
    "# Display Gaussian pyramid\n",
    "display_images(warped_gpyramid, [f'Gaussian Level {i}' for i in range(len(warped_gpyramid))])\n",
    "\n",
    "# Display Laplacian pyramid\n",
    "display_images(warped_lapyramid, [f'Laplacian Level {i}' for i in range(len(warped_lapyramid))])"
   ]
  },
  {
   "cell_type": "code",
   "execution_count": null,
   "id": "a1bf6d51-acb2-421d-896e-208e30d9800a",
   "metadata": {},
   "outputs": [],
   "source": [
    "target_gpyramid = gaussian_pyramid(target, 5)\n",
    "target_lapyramid = laplacian_pyramid(target, 5)"
   ]
  },
  {
   "cell_type": "code",
   "execution_count": null,
   "id": "83dc007f-9800-4fd6-8648-ef26539ba005",
   "metadata": {},
   "outputs": [],
   "source": [
    "# Display Gaussian pyramid\n",
    "display_images(target_gpyramid, [f'Gaussian Level {i}' for i in range(len(target_gpyramid))])\n",
    "\n",
    "# Display Laplacian pyramid\n",
    "display_images(target_lapyramid, [f'Laplacian Level {i}' for i in range(len(target_lapyramid))])"
   ]
  },
  {
   "cell_type": "code",
   "execution_count": null,
   "id": "874f81ac-716a-4e54-b4c8-e5817786cf3c",
   "metadata": {},
   "outputs": [],
   "source": [
    "target_mask = cv.imread(\"custom_data/\" + name2 + \"_mask.jpg\")\n",
    "_, binary_mask = cv.threshold(target_mask, 127, 255, cv.THRESH_BINARY)\n",
    "target_mask = np.where(binary_mask == 255, 1, 0)\n",
    "plt.imshow(target_mask[:,:,0])\n",
    "target_mask = np.reshape(target_mask.astype('float32'), (512,512,3))\n",
    "target_mask[100,400]"
   ]
  },
  {
   "cell_type": "code",
   "execution_count": null,
   "id": "2bdb8359-de42-4f9b-9cf3-8af510838b26",
   "metadata": {},
   "outputs": [],
   "source": [
    "target_mask_gpyramid = gaussian_pyramid(target_mask, 5)\n",
    "target_mask_lapyramid = laplacian_pyramid(target_mask, 5)"
   ]
  },
  {
   "cell_type": "code",
   "execution_count": null,
   "id": "ba40534d-29eb-4eba-b934-e555ca31d34f",
   "metadata": {},
   "outputs": [],
   "source": [
    "# Display Gaussian pyramid\n",
    "display_images(target_mask_gpyramid, [f'Gaussian Level {i}' for i in range(len(target_mask_gpyramid))])"
   ]
  },
  {
   "cell_type": "code",
   "execution_count": null,
   "id": "6b9f9fc2-7aec-4391-81e1-40029fe62f16",
   "metadata": {},
   "outputs": [],
   "source": [
    "pyramid_result = pyramid_blend(warped,target, target_mask, 5)"
   ]
  },
  {
   "cell_type": "code",
   "execution_count": null,
   "id": "0d9acfae-e553-40ec-baee-1262190f9c3d",
   "metadata": {},
   "outputs": [],
   "source": [
    "figure(figsize = (20,10))\n",
    "naive = warped*target_mask + target*(1-target_mask)\n",
    "plt.subplot(1,2,1)\n",
    "plt.imshow(cv.cvtColor(naive, cv.COLOR_BGR2RGB))\n",
    "cv.imwrite(\"custom_data/result/naive/\" + name1 + \"_\" + name2 + \"_\" + \"naive.jpg\",naive*255)\n",
    "\n",
    "plt.subplot(1,2,2)\n",
    "plt.imshow(cv.cvtColor(pyramid_result, cv.COLOR_BGR2RGB))\n",
    "cv.imwrite(\"custom_data/result/pyramid/\" + name1 + \"_\" + name2 + \"_\" + \"pyramid.jpg\",pyramid_result*255)\n",
    "plt.show()"
   ]
  },
  {
   "cell_type": "code",
   "execution_count": null,
   "id": "4bd95ee1-939f-4277-a15e-32974b290d16",
   "metadata": {
    "scrolled": true
   },
   "outputs": [],
   "source": [
    "figure(figsize = (20,10))\n",
    "plt.subplot(1,3,1)\n",
    "plt.imshow(cv.cvtColor(target, cv.COLOR_BGR2RGB))\n",
    "plt.subplot(1,3,2)\n",
    "plt.imshow(cv.cvtColor(warped, cv.COLOR_BGR2RGB))\n",
    "plt.subplot(1,3,3)\n",
    "plt.imshow(cv.cvtColor(pyramid_result, cv.COLOR_BGR2RGB))"
   ]
  },
  {
   "cell_type": "markdown",
   "id": "3b36fa95-06f1-4ce4-8146-8d85ff81e1f1",
   "metadata": {
    "jp-MarkdownHeadingCollapsed": true
   },
   "source": [
    "## Poisson Blending"
   ]
  },
  {
   "cell_type": "code",
   "execution_count": null,
   "id": "a0a4637e-a51b-400a-a665-87e4e08ce7b5",
   "metadata": {},
   "outputs": [],
   "source": [
    "import cv2 as cv\n",
    "from PIL import Image\n",
    "from matplotlib.pyplot import figure\n",
    "import scipy\n",
    "import matplotlib.pyplot as plt\n",
    "import numpy as np\n",
    "import scipy.sparse as sp"
   ]
  },
  {
   "cell_type": "code",
   "execution_count": null,
   "id": "bbd6c82d-541e-45d3-87f3-ff39bbea5771",
   "metadata": {},
   "outputs": [],
   "source": [
    "img1 = cv.imread(\"custom_data/\" + name1 + \".jpg\")\n",
    "plt.subplot(1,2,1)\n",
    "plt.imshow(cv.cvtColor(img1, cv.COLOR_BGR2RGB))\n",
    "\n",
    "img2 = cv.imread(\"custom_data/\" + name2 + \".jpg\")\n",
    "plt.subplot(1,2,2)\n",
    "plt.imshow(cv.cvtColor(img2, cv.COLOR_BGR2RGB))\n",
    "plt.show()\n",
    "print(img1.shape)\n",
    "print(img2.shape)"
   ]
  },
  {
   "cell_type": "markdown",
   "id": "7ef23b67-9ebd-47d1-8349-f196dec69920",
   "metadata": {},
   "source": [
    "### Poisson function"
   ]
  },
  {
   "attachments": {
    "8dc9bc22-2a08-4d8c-8da5-6b01d13110cd.png": {
     "image/png": "[encoded data removed]"
    }
   },
   "cell_type": "markdown",
   "id": "e19f30cc-81d1-453e-838f-7947a934aa5b",
   "metadata": {},
   "source": [
    "![image.png](attachment:8dc9bc22-2a08-4d8c-8da5-6b01d13110cd.png)"
   ]
  },
  {
   "cell_type": "code",
   "execution_count": null,
   "id": "12eb74ed-2be0-42d6-9880-0eff42f83cac",
   "metadata": {},
   "outputs": [],
   "source": [
    "def poisson_blend(fg, mask, bg, mixed=False):\n",
    "    \"\"\"\n",
    "    Poisson Blending\n",
    "    fg: (H, W, C) source texture / foreground object\n",
    "    mask: (H, W, 1)\n",
    "    bg: (H, W, C) target image / background\n",
    "    return: (H, W, C)\n",
    "    \"\"\"\n",
    "    imh, imw, channels = min(fg.shape, bg.shape)\n",
    "    n_pixels = imh * imw\n",
    "    im2var = np.arange(n_pixels).reshape((imh, imw)).astype(int)\n",
    "    v_rgb = np.empty((imh, imw, channels), dtype=int)\n",
    "    A = sp.lil_matrix((n_pixels, n_pixels))\n",
    "    mask_index = np.where(mask == True)\n",
    "    n_mask = len(mask_index[0])\n",
    "\n",
    "    for c in range(channels):\n",
    "        b = np.zeros((n_pixels, 1))\n",
    "        for index in range(n_mask):\n",
    "            y = mask_index[0][index]\n",
    "            x = mask_index[1][index]\n",
    "            e = (y - 1) * imw + x\n",
    "            # construct A, only construct once because A is same for 3 channels\n",
    "            if c == 0:\n",
    "                if (y - 1) >= 0:\n",
    "                    if mask[y - 1, x]:\n",
    "                        A[e, im2var[y - 1, x]] = -1\n",
    "                if (y + 1) <= mask.shape[0] - 1:\n",
    "                    if mask[y + 1, x]:\n",
    "                        A[e, im2var[y + 1, x]] = -1\n",
    "                if (x - 1) >= 0:\n",
    "                    if mask[y, x - 1]:\n",
    "                        A[e, im2var[y, x - 1]] = -1\n",
    "                if (x + 1) <= mask.shape[1] - 1:\n",
    "                    if mask[y, x + 1]:\n",
    "                        A[e, im2var[y, x + 1]] = -1\n",
    "                # center point is 4\n",
    "                A[e, im2var[y, x]] = 4\n",
    "\n",
    "            # construct b, construct 3 times because b is different for r, g, b\n",
    "            # check the border\n",
    "            if y - 1 < 0:\n",
    "                fg_up = fg[y, x, c]\n",
    "                bg_up = 0\n",
    "            else:\n",
    "                fg_up = fg[y - 1, x, c]\n",
    "                bg_up = bg[y - 1, x, c]\n",
    "            if y + 1 > mask.shape[0] - 1:\n",
    "                fg_down = fg[y, x, c]\n",
    "                bg_down = 0\n",
    "            else:\n",
    "                fg_down = fg[y + 1, x, c]\n",
    "                bg_down = bg[y + 1, x, c]\n",
    "            if x - 1 < 0:\n",
    "                fg_left = fg[y, x, c]\n",
    "                bg_left = 0\n",
    "            else:\n",
    "                fg_left = fg[y, x - 1, c]\n",
    "                bg_left = bg[y, x - 1, c]\n",
    "            if x + 1 > mask.shape[1] - 1:\n",
    "                fg_right = fg[y, x, c]\n",
    "                bg_right = 0\n",
    "            else:\n",
    "                fg_right = fg[y, x + 1, c]\n",
    "                bg_right = bg[y, x + 1, c]\n",
    "\n",
    "            if mixed:\n",
    "                # mixed gradients\n",
    "                s1 = fg[y, x, c] - fg_up\n",
    "                t1 = bg[y, x, c] - bg_up\n",
    "                s2 = fg[y, x, c] - fg_down\n",
    "                t2 = bg[y, x, c] - bg_down\n",
    "                s3 = fg[y, x, c] - fg_left\n",
    "                t3 = bg[y, x, c] - bg_left\n",
    "                s4 = fg[y, x, c] - fg_right\n",
    "                t4 = bg[y, x, c] - bg_right\n",
    "\n",
    "                b[e] = 0\n",
    "                b[e] += s1 if abs(s1) > abs(t1) else t1\n",
    "                b[e] += s2 if abs(s2) > abs(t2) else t2\n",
    "                b[e] += s3 if abs(s3) > abs(t3) else t3\n",
    "                b[e] += s4 if abs(s4) > abs(t4) else t4\n",
    "            else:\n",
    "                b[e] = 4 * fg[y, x, c] - fg_up - fg_down - fg_right - fg_left\n",
    "                \n",
    "\n",
    "            if y - 1 >= 0:\n",
    "                if not mask[y - 1, x]:\n",
    "                    b[e] += bg_up\n",
    "            if y + 1 <= mask.shape[0] - 1:\n",
    "                if not mask[y + 1, x]:\n",
    "                    b[e] += bg_down\n",
    "            if x - 1 >= 0:\n",
    "                if not mask[y, x - 1]:\n",
    "                    b[e] += bg_left\n",
    "            if x + 1 <= mask.shape[1] - 1:\n",
    "                if not mask[y, x + 1]:\n",
    "                    b[e] += bg_right\n",
    "\n",
    "        # calculate lsq, only the mask area is what we want\n",
    "        v = scipy.sparse.linalg.lsqr(A.tocsr(), b)[0] * 255\n",
    "        v_rgb[:, :, c] = v.reshape((imh, imw)).astype(int)\n",
    "\n",
    "    return v_rgb / 255. , mask, bg "
   ]
  },
  {
   "cell_type": "markdown",
   "id": "8e3cf102-63a0-4f41-ac68-10ea0acb8ae9",
   "metadata": {},
   "source": [
    "### Run blending (poisson only)"
   ]
  },
  {
   "cell_type": "code",
   "execution_count": null,
   "id": "082d3dc2-77c5-4d4f-be37-26e29d6e1ce2",
   "metadata": {},
   "outputs": [],
   "source": [
    "def runblending(name1, name2, transparency):\n",
    "    \"\"\"\n",
    "    Run Poisson Blending\n",
    "    name1: 'str' filename of foreground object \n",
    "    name2: 'str' filename of background\n",
    "    return: (H, W, 3) the blended image in BGR format\n",
    "    \"\"\"\n",
    "    im1name = \"custom_data/\" + name1 + \".jpg\"\n",
    "    im2name = \"custom_data/\" + name2 + \".jpg\"\n",
    "    source_mask, target_mask, warped = save_masks(im1name, im2name)\n",
    "    \n",
    "    target_mask = cv.imread(\"custom_data/\" + name2 + \"_mask.jpg\")\n",
    "    _, binary_mask = cv.threshold(target_mask[:,:,0], 127, 255, cv.THRESH_BINARY)\n",
    "    target_mask = np.where(binary_mask == 255, 1, 0)\n",
    "    target_mask = np.reshape(target_mask, (512,512,1))\n",
    "\n",
    "    warped = cv.imread(\"custom_data/\" +name1 + \"_newsource.jpg\")\n",
    "    target = cv.imread(\"custom_data/\" + name2 + \".jpg\")\n",
    "    warped = (warped/255.)\n",
    "    target = (target/255.)\n",
    "    res, mask, bg = poisson_blend(warped, target_mask, target, mixed = transparency)\n",
    "    result = (1-mask)*bg + (mask) * res\n",
    "    return result.astype('float32')"
   ]
  },
  {
   "cell_type": "markdown",
   "id": "59f1dd5d-1fa0-494d-a716-c3adae8343a1",
   "metadata": {},
   "source": [
    "### Run blending (after doing pyramid blending)"
   ]
  },
  {
   "cell_type": "code",
   "execution_count": null,
   "id": "7e273579-4554-43e6-b428-e918ec3a9246",
   "metadata": {},
   "outputs": [],
   "source": [
    "def runblending(name1, name2,transparency):\n",
    "    \"\"\"\n",
    "    Run Poisson Blending\n",
    "    name1: 'str' filename of foreground object \n",
    "    name2: 'str' filename of background\n",
    "    return: (H, W, 3) the blended image in BGR format\n",
    "    \"\"\"\n",
    "\n",
    "    target_mask = cv.imread(\"custom_data/\" + name2 + \"_mask.jpg\")\n",
    "    _, binary_mask = cv.threshold(target_mask[:,:,0], 127, 255, cv.THRESH_BINARY)\n",
    "    target_mask = np.where(binary_mask == 255, 1, 0)\n",
    "    target_mask = np.reshape(target_mask, (512,512,1))\n",
    "\n",
    "    warped = cv.imread(\"custom_data/\" +name1 + \"_newsource.jpg\")\n",
    "    target = cv.imread(\"custom_data/\" + name2 + \".jpg\")\n",
    "    warped = (warped/255.)\n",
    "    target = (target/255.)\n",
    "    res, mask, bg = poisson_blend(warped, target_mask, target, mixed = transparency)\n",
    "    result = (1-mask)*bg + (mask) * res\n",
    "    return result.astype('float32')"
   ]
  },
  {
   "cell_type": "code",
   "execution_count": null,
   "id": "d53ce985-ea3f-4e12-91b2-c65ef71b16c7",
   "metadata": {},
   "outputs": [],
   "source": [
    "result = runblending(name1, name2, 0)"
   ]
  },
  {
   "cell_type": "markdown",
   "id": "3b137285-b7d1-4dec-9bdf-69e6410c5b55",
   "metadata": {},
   "source": [
    "### Display results"
   ]
  },
  {
   "cell_type": "code",
   "execution_count": null,
   "id": "da54940d-5261-4281-9a5a-ffa11eac67fe",
   "metadata": {},
   "outputs": [],
   "source": [
    "cv.namedWindow('image')\n",
    "cv.imshow('image', result)\n",
    "cv.waitKey(0)\n",
    "cv.destroyAllWindows()"
   ]
  },
  {
   "cell_type": "markdown",
   "id": "26b1b7ab-91b9-4ae7-9ba5-379d4f2789d0",
   "metadata": {},
   "source": [
    "### Fail Examples"
   ]
  },
  {
   "cell_type": "markdown",
   "id": "282a1281-f42b-47ca-b2c8-638afa8b9075",
   "metadata": {},
   "source": [
    "Harsh on the border condition\n",
    "1. background is complicated\n",
    "2. background is not matched"
   ]
  },
  {
   "cell_type": "code",
   "execution_count": null,
   "id": "4ec4a079-8d96-4b97-93c4-159a33d185c6",
   "metadata": {},
   "outputs": [],
   "source": [
    "figure(figsize = (20,15))\n",
    "\n",
    "name1, name2 = (\"castle\", \"summitsky\")\n",
    "naive = cv.imread(\"custom_data/result/naive/\" + name1 + \"_\" + name2 + \"_\" + \"naive.jpg\")\n",
    "naive = cv.cvtColor(naive, cv.COLOR_BGR2RGB)\n",
    "plt.subplot(1,2,1)\n",
    "plt.imshow(naive)\n",
    "\n",
    "poisson = cv.imread(\"custom_data/result/poisson/\" + name1 + \"_\" + name2 + \"_\" + \"poisson.jpg\")\n",
    "poisson = cv.cvtColor(poisson, cv.COLOR_BGR2RGB)\n",
    "plt.subplot(1,2,2)\n",
    "plt.imshow(poisson)\n",
    "plt.show()"
   ]
  },
  {
   "cell_type": "markdown",
   "id": "ee8c664c-61c1-4b1a-9456-8816bba0ea29",
   "metadata": {},
   "source": [
    "### Comparison"
   ]
  },
  {
   "cell_type": "code",
   "execution_count": null,
   "id": "64b2db8b-5bbd-403f-83ad-5a3114445432",
   "metadata": {},
   "outputs": [],
   "source": [
    "target_mask = cv.imread(\"custom_data/\" + name2 + \"_mask.jpg\")\n",
    "_, binary_mask = cv.threshold(target_mask[:,:,0], 127, 255, cv.THRESH_BINARY)\n",
    "target_mask = np.where(binary_mask == 255, 1, 0)\n",
    "target_mask = np.reshape(target_mask, (512,512,1))\n",
    "target_mask.shape\n",
    "\n",
    "mask = target_mask\n",
    "warped = cv.imread(\"custom_data/\" +name1 + \"_newsource.jpg\")\n",
    "bg = cv.imread(\"custom_data/\" + name2 + \".jpg\")\n",
    "warped = (warped/255.)\n",
    "bg = (bg/255.)"
   ]
  },
  {
   "cell_type": "code",
   "execution_count": null,
   "id": "79bec439-2c85-4985-8f32-fc59fbf2e923",
   "metadata": {},
   "outputs": [],
   "source": [
    "poisson = cv.imread(\"custom_data/result/poisson/\" + name1 + \"_\" + name2 + \"_\" + \"poisson.jpg\")\n",
    "pyramid_result = cv.imread(\"custom_data/result/pyramid/\" + name1 + \"_\" + name2 + \"_\" + \"pyramid.jpg\")"
   ]
  },
  {
   "cell_type": "code",
   "execution_count": null,
   "id": "98b60088-402c-4314-8ddd-a6240a309680",
   "metadata": {},
   "outputs": [],
   "source": [
    "figure(figsize = (20,15))\n",
    "\n",
    "naive = ((1-mask)*bg + (mask) * warped).astype('float32')\n",
    "#cv.imwrite(\"custom_data/result/naive/\" + name1 + \"_\" + name2 + \"_\" + \"naive.jpg\",naive*255)\n",
    "naive = cv.cvtColor(naive, cv.COLOR_BGR2RGB)\n",
    "plt.subplot(1,3,1)\n",
    "plt.title('Naive')\n",
    "plt.imshow(naive)\n",
    "\n",
    "#poisson = result.astype('float32')\n",
    "#cv.imwrite(\"custom_data/result/poisson/\" + name1 + \"_\" + name2 + \"_\" + \"poisson.jpg\",poisson*255)\n",
    "poisson = cv.cvtColor(poisson, cv.COLOR_BGR2RGB)\n",
    "plt.subplot(1,3,2)\n",
    "plt.title('Poisson Blending')\n",
    "plt.imshow(poisson)\n",
    "\n",
    "\n",
    "plt.subplot(1,3,3)\n",
    "plt.title('Pyramid Blending')\n",
    "plt.imshow(cv.cvtColor(pyramid_result, cv.COLOR_BGR2RGB))\n",
    "#cv.imwrite(\"custom_data/result/pyramid/\" + name1 + \"_\" + name2 + \"_\" + \"pyramid.jpg\",pyramid_result*255)\n",
    "plt.show()"
   ]
  },
  {
   "cell_type": "markdown",
   "id": "81dad394-c9cd-47b3-a3d1-650093d89866",
   "metadata": {
    "jp-MarkdownHeadingCollapsed": true
   },
   "source": [
    "## Conclusion"
   ]
  },
  {
   "cell_type": "markdown",
   "id": "60e38b7b-ca9b-4c22-9119-8ebfd52f6637",
   "metadata": {},
   "source": [
    "Pyramid blending\n",
    "\n",
    "pros:\n",
    "1. Much faster\n",
    "2. Not restricted to the background\n",
    "\n",
    "Cons:\n",
    "1. Need to be windowed well to get a good result\n",
    "2. Does not get a good blending when the color is very different with the background\n",
    "\n",
    "Poisson blending\n",
    "\n",
    "pros:\n",
    "1. Have a more natural-looking and seamless result\n",
    "\n",
    "Cons:\n",
    "1. Takes lots of time for approximation\n",
    "2. Be prone to a bad result when encounters a mismatched border\n",
    "3. Might accumulate noise(black in the middle) when the croping area is too large "
   ]
  }
 ],
 "metadata": {
  "kernelspec": {
   "display_name": "Python 3 (ipykernel)",
   "language": "python",
   "name": "python3"
  },
  "language_info": {
   "codemirror_mode": {
    "name": "ipython",
    "version": 3
   },
   "file_extension": ".py",
   "mimetype": "text/x-python",
   "name": "python",
   "nbconvert_exporter": "python",
   "pygments_lexer": "ipython3",
   "version": "3.11.7"
  }
 },
 "nbformat": 4,
 "nbformat_minor": 5
}
